{
 "cells": [
  {
   "cell_type": "markdown",
   "id": "better-think",
   "metadata": {
    "papermill": {
     "duration": 0.023506,
     "end_time": "2021-04-04T22:09:33.679248",
     "exception": false,
     "start_time": "2021-04-04T22:09:33.655742",
     "status": "completed"
    },
    "tags": []
   },
   "source": [
    "**Import libraries**"
   ]
  },
  {
   "cell_type": "code",
   "execution_count": 1,
   "id": "impressed-application",
   "metadata": {
    "_cell_guid": "b1076dfc-b9ad-4769-8c92-a6c4dae69d19",
    "_uuid": "8f2839f25d086af736a60e9eeb907d3b93b6e0e5",
    "execution": {
     "iopub.execute_input": "2021-04-04T22:09:33.730028Z",
     "iopub.status.busy": "2021-04-04T22:09:33.728903Z",
     "iopub.status.idle": "2021-04-04T22:09:34.588743Z",
     "shell.execute_reply": "2021-04-04T22:09:34.587526Z"
    },
    "papermill": {
     "duration": 0.885967,
     "end_time": "2021-04-04T22:09:34.588958",
     "exception": false,
     "start_time": "2021-04-04T22:09:33.702991",
     "status": "completed"
    },
    "tags": []
   },
   "outputs": [],
   "source": [
    "import numpy as np\n",
    "import pandas as pd\n",
    "import seaborn as sns"
   ]
  },
  {
   "cell_type": "markdown",
   "id": "solar-cornwall",
   "metadata": {
    "papermill": {
     "duration": 0.022096,
     "end_time": "2021-04-04T22:09:34.633833",
     "exception": false,
     "start_time": "2021-04-04T22:09:34.611737",
     "status": "completed"
    },
    "tags": []
   },
   "source": [
    "**Loading dataset**"
   ]
  },
  {
   "cell_type": "code",
   "execution_count": 2,
   "id": "standard-tuesday",
   "metadata": {
    "execution": {
     "iopub.execute_input": "2021-04-04T22:09:34.685486Z",
     "iopub.status.busy": "2021-04-04T22:09:34.684778Z",
     "iopub.status.idle": "2021-04-04T22:09:34.712839Z",
     "shell.execute_reply": "2021-04-04T22:09:34.712235Z"
    },
    "papermill": {
     "duration": 0.055288,
     "end_time": "2021-04-04T22:09:34.712982",
     "exception": false,
     "start_time": "2021-04-04T22:09:34.657694",
     "status": "completed"
    },
    "tags": []
   },
   "outputs": [],
   "source": [
    "college_raw = pd.read_excel(\"ForbesAmericasTopColleges2019.xls\")"
   ]
  },
  {
   "cell_type": "markdown",
   "id": "limiting-surprise",
   "metadata": {
    "papermill": {
     "duration": 0.022918,
     "end_time": "2021-04-04T22:09:34.758874",
     "exception": false,
     "start_time": "2021-04-04T22:09:34.735956",
     "status": "completed"
    },
    "tags": []
   },
   "source": [
    "## **1. Understanding the data**"
   ]
  },
  {
   "cell_type": "code",
   "execution_count": 3,
   "id": "sharp-prison",
   "metadata": {
    "execution": {
     "iopub.execute_input": "2021-04-04T22:09:34.811854Z",
     "iopub.status.busy": "2021-04-04T22:09:34.811192Z",
     "iopub.status.idle": "2021-04-04T22:09:34.815398Z",
     "shell.execute_reply": "2021-04-04T22:09:34.814892Z"
    },
    "papermill": {
     "duration": 0.033497,
     "end_time": "2021-04-04T22:09:34.815533",
     "exception": false,
     "start_time": "2021-04-04T22:09:34.782036",
     "status": "completed"
    },
    "tags": []
   },
   "outputs": [
    {
     "data": {
      "text/plain": [
       "(650, 17)"
      ]
     },
     "execution_count": 3,
     "metadata": {},
     "output_type": "execute_result"
    }
   ],
   "source": [
    "college_raw.shape"
   ]
  },
  {
   "cell_type": "markdown",
   "id": "mexican-subject",
   "metadata": {
    "papermill": {
     "duration": 0.023135,
     "end_time": "2021-04-04T22:09:34.862176",
     "exception": false,
     "start_time": "2021-04-04T22:09:34.839041",
     "status": "completed"
    },
    "tags": []
   },
   "source": [
    "There are 650 colleges with 17 different attributes (before cleaning)."
   ]
  },
  {
   "cell_type": "code",
   "execution_count": 4,
   "id": "native-browse",
   "metadata": {
    "execution": {
     "iopub.execute_input": "2021-04-04T22:09:34.912717Z",
     "iopub.status.busy": "2021-04-04T22:09:34.912097Z",
     "iopub.status.idle": "2021-04-04T22:09:34.950765Z",
     "shell.execute_reply": "2021-04-04T22:09:34.951360Z"
    },
    "papermill": {
     "duration": 0.065616,
     "end_time": "2021-04-04T22:09:34.951531",
     "exception": false,
     "start_time": "2021-04-04T22:09:34.885915",
     "status": "completed"
    },
    "tags": []
   },
   "outputs": [
    {
     "data": {
      "text/html": [
       "<div>\n",
       "<style scoped>\n",
       "    .dataframe tbody tr th:only-of-type {\n",
       "        vertical-align: middle;\n",
       "    }\n",
       "\n",
       "    .dataframe tbody tr th {\n",
       "        vertical-align: top;\n",
       "    }\n",
       "\n",
       "    .dataframe thead th {\n",
       "        text-align: right;\n",
       "    }\n",
       "</style>\n",
       "<table border=\"1\" class=\"dataframe\">\n",
       "  <thead>\n",
       "    <tr style=\"text-align: right;\">\n",
       "      <th></th>\n",
       "      <th>Rank</th>\n",
       "      <th>Name</th>\n",
       "      <th>City</th>\n",
       "      <th>State</th>\n",
       "      <th>Public/Private</th>\n",
       "      <th>Undergraduate Population</th>\n",
       "      <th>Student Population</th>\n",
       "      <th>Net Price</th>\n",
       "      <th>Average Grant Aid</th>\n",
       "      <th>Total Annual Cost</th>\n",
       "      <th>Alumni Salary</th>\n",
       "      <th>Acceptance Rate</th>\n",
       "      <th>SAT Lower</th>\n",
       "      <th>SAT Upper</th>\n",
       "      <th>ACT Lower</th>\n",
       "      <th>ACT Upper</th>\n",
       "      <th>Website</th>\n",
       "    </tr>\n",
       "  </thead>\n",
       "  <tbody>\n",
       "    <tr>\n",
       "      <th>0</th>\n",
       "      <td>1.0</td>\n",
       "      <td>Harvard University</td>\n",
       "      <td>Cambridge</td>\n",
       "      <td>MA</td>\n",
       "      <td>Private</td>\n",
       "      <td>13844.0</td>\n",
       "      <td>31120.0</td>\n",
       "      <td>14327.0</td>\n",
       "      <td>49870.0</td>\n",
       "      <td>69600.0</td>\n",
       "      <td>146800.0</td>\n",
       "      <td>5.0</td>\n",
       "      <td>1460.0</td>\n",
       "      <td>1590.0</td>\n",
       "      <td>32.0</td>\n",
       "      <td>35.0</td>\n",
       "      <td>www.harvard.edu</td>\n",
       "    </tr>\n",
       "    <tr>\n",
       "      <th>1</th>\n",
       "      <td>2.0</td>\n",
       "      <td>Stanford University</td>\n",
       "      <td>Stanford</td>\n",
       "      <td>CA</td>\n",
       "      <td>Private</td>\n",
       "      <td>8402.0</td>\n",
       "      <td>17534.0</td>\n",
       "      <td>13261.0</td>\n",
       "      <td>50134.0</td>\n",
       "      <td>69109.0</td>\n",
       "      <td>145200.0</td>\n",
       "      <td>5.0</td>\n",
       "      <td>1390.0</td>\n",
       "      <td>1540.0</td>\n",
       "      <td>32.0</td>\n",
       "      <td>35.0</td>\n",
       "      <td>www.stanford.edu</td>\n",
       "    </tr>\n",
       "    <tr>\n",
       "      <th>2</th>\n",
       "      <td>3.0</td>\n",
       "      <td>Yale University</td>\n",
       "      <td>New Haven</td>\n",
       "      <td>CT</td>\n",
       "      <td>Private</td>\n",
       "      <td>6483.0</td>\n",
       "      <td>12974.0</td>\n",
       "      <td>18627.0</td>\n",
       "      <td>50897.0</td>\n",
       "      <td>71290.0</td>\n",
       "      <td>138300.0</td>\n",
       "      <td>7.0</td>\n",
       "      <td>1460.0</td>\n",
       "      <td>1580.0</td>\n",
       "      <td>32.0</td>\n",
       "      <td>35.0</td>\n",
       "      <td>www.yale.edu</td>\n",
       "    </tr>\n",
       "    <tr>\n",
       "      <th>3</th>\n",
       "      <td>4.0</td>\n",
       "      <td>Massachusetts Institute of Technology</td>\n",
       "      <td>Cambridge</td>\n",
       "      <td>MA</td>\n",
       "      <td>Private</td>\n",
       "      <td>4680.0</td>\n",
       "      <td>11466.0</td>\n",
       "      <td>20771.0</td>\n",
       "      <td>43248.0</td>\n",
       "      <td>67430.0</td>\n",
       "      <td>155200.0</td>\n",
       "      <td>7.0</td>\n",
       "      <td>1490.0</td>\n",
       "      <td>1570.0</td>\n",
       "      <td>33.0</td>\n",
       "      <td>35.0</td>\n",
       "      <td>web.mit.edu</td>\n",
       "    </tr>\n",
       "    <tr>\n",
       "      <th>4</th>\n",
       "      <td>5.0</td>\n",
       "      <td>Princeton University</td>\n",
       "      <td>Princeton</td>\n",
       "      <td>NJ</td>\n",
       "      <td>Private</td>\n",
       "      <td>5659.0</td>\n",
       "      <td>8273.0</td>\n",
       "      <td>9327.0</td>\n",
       "      <td>48088.0</td>\n",
       "      <td>66150.0</td>\n",
       "      <td>139400.0</td>\n",
       "      <td>6.0</td>\n",
       "      <td>1430.0</td>\n",
       "      <td>1570.0</td>\n",
       "      <td>31.0</td>\n",
       "      <td>35.0</td>\n",
       "      <td>www.princeton.edu</td>\n",
       "    </tr>\n",
       "  </tbody>\n",
       "</table>\n",
       "</div>"
      ],
      "text/plain": [
       "   Rank                                   Name       City State  \\\n",
       "0   1.0                     Harvard University  Cambridge    MA   \n",
       "1   2.0                    Stanford University   Stanford    CA   \n",
       "2   3.0                        Yale University  New Haven    CT   \n",
       "3   4.0  Massachusetts Institute of Technology  Cambridge    MA   \n",
       "4   5.0                   Princeton University  Princeton    NJ   \n",
       "\n",
       "  Public/Private  Undergraduate Population  Student Population  Net Price  \\\n",
       "0        Private                   13844.0             31120.0    14327.0   \n",
       "1        Private                    8402.0             17534.0    13261.0   \n",
       "2        Private                    6483.0             12974.0    18627.0   \n",
       "3        Private                    4680.0             11466.0    20771.0   \n",
       "4        Private                    5659.0              8273.0     9327.0   \n",
       "\n",
       "   Average Grant Aid  Total Annual Cost  Alumni Salary  Acceptance Rate  \\\n",
       "0            49870.0            69600.0       146800.0              5.0   \n",
       "1            50134.0            69109.0       145200.0              5.0   \n",
       "2            50897.0            71290.0       138300.0              7.0   \n",
       "3            43248.0            67430.0       155200.0              7.0   \n",
       "4            48088.0            66150.0       139400.0              6.0   \n",
       "\n",
       "   SAT Lower  SAT Upper  ACT Lower  ACT Upper            Website  \n",
       "0     1460.0     1590.0       32.0       35.0    www.harvard.edu  \n",
       "1     1390.0     1540.0       32.0       35.0   www.stanford.edu  \n",
       "2     1460.0     1580.0       32.0       35.0       www.yale.edu  \n",
       "3     1490.0     1570.0       33.0       35.0        web.mit.edu  \n",
       "4     1430.0     1570.0       31.0       35.0  www.princeton.edu  "
      ]
     },
     "execution_count": 4,
     "metadata": {},
     "output_type": "execute_result"
    }
   ],
   "source": [
    "college_raw.head()"
   ]
  },
  {
   "cell_type": "code",
   "execution_count": 5,
   "id": "independent-firmware",
   "metadata": {
    "execution": {
     "iopub.execute_input": "2021-04-04T22:09:35.003634Z",
     "iopub.status.busy": "2021-04-04T22:09:35.003012Z",
     "iopub.status.idle": "2021-04-04T22:09:35.084001Z",
     "shell.execute_reply": "2021-04-04T22:09:35.083277Z"
    },
    "papermill": {
     "duration": 0.108485,
     "end_time": "2021-04-04T22:09:35.084140",
     "exception": false,
     "start_time": "2021-04-04T22:09:34.975655",
     "status": "completed"
    },
    "tags": []
   },
   "outputs": [
    {
     "data": {
      "text/html": [
       "<div>\n",
       "<style scoped>\n",
       "    .dataframe tbody tr th:only-of-type {\n",
       "        vertical-align: middle;\n",
       "    }\n",
       "\n",
       "    .dataframe tbody tr th {\n",
       "        vertical-align: top;\n",
       "    }\n",
       "\n",
       "    .dataframe thead th {\n",
       "        text-align: right;\n",
       "    }\n",
       "</style>\n",
       "<table border=\"1\" class=\"dataframe\">\n",
       "  <thead>\n",
       "    <tr style=\"text-align: right;\">\n",
       "      <th></th>\n",
       "      <th>Rank</th>\n",
       "      <th>Name</th>\n",
       "      <th>City</th>\n",
       "      <th>State</th>\n",
       "      <th>Public/Private</th>\n",
       "      <th>Undergraduate Population</th>\n",
       "      <th>Student Population</th>\n",
       "      <th>Net Price</th>\n",
       "      <th>Average Grant Aid</th>\n",
       "      <th>Total Annual Cost</th>\n",
       "      <th>Alumni Salary</th>\n",
       "      <th>Acceptance Rate</th>\n",
       "      <th>SAT Lower</th>\n",
       "      <th>SAT Upper</th>\n",
       "      <th>ACT Lower</th>\n",
       "      <th>ACT Upper</th>\n",
       "      <th>Website</th>\n",
       "    </tr>\n",
       "  </thead>\n",
       "  <tbody>\n",
       "    <tr>\n",
       "      <th>count</th>\n",
       "      <td>650.00000</td>\n",
       "      <td>650</td>\n",
       "      <td>647</td>\n",
       "      <td>650</td>\n",
       "      <td>650</td>\n",
       "      <td>650.000000</td>\n",
       "      <td>650.000000</td>\n",
       "      <td>648.000000</td>\n",
       "      <td>646.000000</td>\n",
       "      <td>650.000000</td>\n",
       "      <td>635.000000</td>\n",
       "      <td>648.000000</td>\n",
       "      <td>551.000000</td>\n",
       "      <td>551.000000</td>\n",
       "      <td>553.000000</td>\n",
       "      <td>553.000000</td>\n",
       "      <td>645</td>\n",
       "    </tr>\n",
       "    <tr>\n",
       "      <th>unique</th>\n",
       "      <td>NaN</td>\n",
       "      <td>650</td>\n",
       "      <td>469</td>\n",
       "      <td>51</td>\n",
       "      <td>2</td>\n",
       "      <td>NaN</td>\n",
       "      <td>NaN</td>\n",
       "      <td>NaN</td>\n",
       "      <td>NaN</td>\n",
       "      <td>NaN</td>\n",
       "      <td>NaN</td>\n",
       "      <td>NaN</td>\n",
       "      <td>NaN</td>\n",
       "      <td>NaN</td>\n",
       "      <td>NaN</td>\n",
       "      <td>NaN</td>\n",
       "      <td>645</td>\n",
       "    </tr>\n",
       "    <tr>\n",
       "      <th>top</th>\n",
       "      <td>NaN</td>\n",
       "      <td>Cooper Union</td>\n",
       "      <td>New York</td>\n",
       "      <td>NY</td>\n",
       "      <td>Private</td>\n",
       "      <td>NaN</td>\n",
       "      <td>NaN</td>\n",
       "      <td>NaN</td>\n",
       "      <td>NaN</td>\n",
       "      <td>NaN</td>\n",
       "      <td>NaN</td>\n",
       "      <td>NaN</td>\n",
       "      <td>NaN</td>\n",
       "      <td>NaN</td>\n",
       "      <td>NaN</td>\n",
       "      <td>NaN</td>\n",
       "      <td>www.moravian.edu</td>\n",
       "    </tr>\n",
       "    <tr>\n",
       "      <th>freq</th>\n",
       "      <td>NaN</td>\n",
       "      <td>1</td>\n",
       "      <td>15</td>\n",
       "      <td>68</td>\n",
       "      <td>400</td>\n",
       "      <td>NaN</td>\n",
       "      <td>NaN</td>\n",
       "      <td>NaN</td>\n",
       "      <td>NaN</td>\n",
       "      <td>NaN</td>\n",
       "      <td>NaN</td>\n",
       "      <td>NaN</td>\n",
       "      <td>NaN</td>\n",
       "      <td>NaN</td>\n",
       "      <td>NaN</td>\n",
       "      <td>NaN</td>\n",
       "      <td>1</td>\n",
       "    </tr>\n",
       "    <tr>\n",
       "      <th>mean</th>\n",
       "      <td>325.50000</td>\n",
       "      <td>NaN</td>\n",
       "      <td>NaN</td>\n",
       "      <td>NaN</td>\n",
       "      <td>NaN</td>\n",
       "      <td>10002.692308</td>\n",
       "      <td>12022.290769</td>\n",
       "      <td>22336.947531</td>\n",
       "      <td>20031.208978</td>\n",
       "      <td>50330.175385</td>\n",
       "      <td>98851.968504</td>\n",
       "      <td>61.597222</td>\n",
       "      <td>1110.145191</td>\n",
       "      <td>1308.078040</td>\n",
       "      <td>23.278481</td>\n",
       "      <td>28.441230</td>\n",
       "      <td>NaN</td>\n",
       "    </tr>\n",
       "    <tr>\n",
       "      <th>std</th>\n",
       "      <td>187.78312</td>\n",
       "      <td>NaN</td>\n",
       "      <td>NaN</td>\n",
       "      <td>NaN</td>\n",
       "      <td>NaN</td>\n",
       "      <td>11162.172430</td>\n",
       "      <td>13175.091581</td>\n",
       "      <td>8269.912032</td>\n",
       "      <td>11175.869976</td>\n",
       "      <td>13223.055038</td>\n",
       "      <td>14335.249458</td>\n",
       "      <td>22.024781</td>\n",
       "      <td>127.744079</td>\n",
       "      <td>113.553237</td>\n",
       "      <td>3.729318</td>\n",
       "      <td>3.058115</td>\n",
       "      <td>NaN</td>\n",
       "    </tr>\n",
       "    <tr>\n",
       "      <th>min</th>\n",
       "      <td>1.00000</td>\n",
       "      <td>NaN</td>\n",
       "      <td>NaN</td>\n",
       "      <td>NaN</td>\n",
       "      <td>NaN</td>\n",
       "      <td>185.000000</td>\n",
       "      <td>386.000000</td>\n",
       "      <td>0.000000</td>\n",
       "      <td>2975.000000</td>\n",
       "      <td>0.000000</td>\n",
       "      <td>70700.000000</td>\n",
       "      <td>5.000000</td>\n",
       "      <td>820.000000</td>\n",
       "      <td>1060.000000</td>\n",
       "      <td>15.000000</td>\n",
       "      <td>20.000000</td>\n",
       "      <td>NaN</td>\n",
       "    </tr>\n",
       "    <tr>\n",
       "      <th>25%</th>\n",
       "      <td>163.25000</td>\n",
       "      <td>NaN</td>\n",
       "      <td>NaN</td>\n",
       "      <td>NaN</td>\n",
       "      <td>NaN</td>\n",
       "      <td>2020.250000</td>\n",
       "      <td>2240.750000</td>\n",
       "      <td>16410.000000</td>\n",
       "      <td>9288.250000</td>\n",
       "      <td>39917.000000</td>\n",
       "      <td>88600.000000</td>\n",
       "      <td>48.000000</td>\n",
       "      <td>1020.000000</td>\n",
       "      <td>1230.000000</td>\n",
       "      <td>21.000000</td>\n",
       "      <td>26.000000</td>\n",
       "      <td>NaN</td>\n",
       "    </tr>\n",
       "    <tr>\n",
       "      <th>50%</th>\n",
       "      <td>325.50000</td>\n",
       "      <td>NaN</td>\n",
       "      <td>NaN</td>\n",
       "      <td>NaN</td>\n",
       "      <td>NaN</td>\n",
       "      <td>4503.000000</td>\n",
       "      <td>6269.000000</td>\n",
       "      <td>21989.000000</td>\n",
       "      <td>19605.000000</td>\n",
       "      <td>50265.000000</td>\n",
       "      <td>96400.000000</td>\n",
       "      <td>67.000000</td>\n",
       "      <td>1080.000000</td>\n",
       "      <td>1290.000000</td>\n",
       "      <td>22.000000</td>\n",
       "      <td>28.000000</td>\n",
       "      <td>NaN</td>\n",
       "    </tr>\n",
       "    <tr>\n",
       "      <th>75%</th>\n",
       "      <td>487.75000</td>\n",
       "      <td>NaN</td>\n",
       "      <td>NaN</td>\n",
       "      <td>NaN</td>\n",
       "      <td>NaN</td>\n",
       "      <td>15657.000000</td>\n",
       "      <td>17788.000000</td>\n",
       "      <td>27580.500000</td>\n",
       "      <td>27474.500000</td>\n",
       "      <td>60771.750000</td>\n",
       "      <td>105600.000000</td>\n",
       "      <td>78.000000</td>\n",
       "      <td>1180.000000</td>\n",
       "      <td>1380.000000</td>\n",
       "      <td>25.000000</td>\n",
       "      <td>31.000000</td>\n",
       "      <td>NaN</td>\n",
       "    </tr>\n",
       "    <tr>\n",
       "      <th>max</th>\n",
       "      <td>650.00000</td>\n",
       "      <td>NaN</td>\n",
       "      <td>NaN</td>\n",
       "      <td>NaN</td>\n",
       "      <td>NaN</td>\n",
       "      <td>65100.000000</td>\n",
       "      <td>75044.000000</td>\n",
       "      <td>47270.000000</td>\n",
       "      <td>50897.000000</td>\n",
       "      <td>75735.000000</td>\n",
       "      <td>158200.000000</td>\n",
       "      <td>100.000000</td>\n",
       "      <td>1530.000000</td>\n",
       "      <td>1590.000000</td>\n",
       "      <td>34.000000</td>\n",
       "      <td>35.000000</td>\n",
       "      <td>NaN</td>\n",
       "    </tr>\n",
       "  </tbody>\n",
       "</table>\n",
       "</div>"
      ],
      "text/plain": [
       "             Rank          Name      City State Public/Private  \\\n",
       "count   650.00000           650       647   650            650   \n",
       "unique        NaN           650       469    51              2   \n",
       "top           NaN  Cooper Union  New York    NY        Private   \n",
       "freq          NaN             1        15    68            400   \n",
       "mean    325.50000           NaN       NaN   NaN            NaN   \n",
       "std     187.78312           NaN       NaN   NaN            NaN   \n",
       "min       1.00000           NaN       NaN   NaN            NaN   \n",
       "25%     163.25000           NaN       NaN   NaN            NaN   \n",
       "50%     325.50000           NaN       NaN   NaN            NaN   \n",
       "75%     487.75000           NaN       NaN   NaN            NaN   \n",
       "max     650.00000           NaN       NaN   NaN            NaN   \n",
       "\n",
       "        Undergraduate Population  Student Population     Net Price  \\\n",
       "count                 650.000000          650.000000    648.000000   \n",
       "unique                       NaN                 NaN           NaN   \n",
       "top                          NaN                 NaN           NaN   \n",
       "freq                         NaN                 NaN           NaN   \n",
       "mean                10002.692308        12022.290769  22336.947531   \n",
       "std                 11162.172430        13175.091581   8269.912032   \n",
       "min                   185.000000          386.000000      0.000000   \n",
       "25%                  2020.250000         2240.750000  16410.000000   \n",
       "50%                  4503.000000         6269.000000  21989.000000   \n",
       "75%                 15657.000000        17788.000000  27580.500000   \n",
       "max                 65100.000000        75044.000000  47270.000000   \n",
       "\n",
       "        Average Grant Aid  Total Annual Cost  Alumni Salary  Acceptance Rate  \\\n",
       "count          646.000000         650.000000     635.000000       648.000000   \n",
       "unique                NaN                NaN            NaN              NaN   \n",
       "top                   NaN                NaN            NaN              NaN   \n",
       "freq                  NaN                NaN            NaN              NaN   \n",
       "mean         20031.208978       50330.175385   98851.968504        61.597222   \n",
       "std          11175.869976       13223.055038   14335.249458        22.024781   \n",
       "min           2975.000000           0.000000   70700.000000         5.000000   \n",
       "25%           9288.250000       39917.000000   88600.000000        48.000000   \n",
       "50%          19605.000000       50265.000000   96400.000000        67.000000   \n",
       "75%          27474.500000       60771.750000  105600.000000        78.000000   \n",
       "max          50897.000000       75735.000000  158200.000000       100.000000   \n",
       "\n",
       "          SAT Lower    SAT Upper   ACT Lower   ACT Upper           Website  \n",
       "count    551.000000   551.000000  553.000000  553.000000               645  \n",
       "unique          NaN          NaN         NaN         NaN               645  \n",
       "top             NaN          NaN         NaN         NaN  www.moravian.edu  \n",
       "freq            NaN          NaN         NaN         NaN                 1  \n",
       "mean    1110.145191  1308.078040   23.278481   28.441230               NaN  \n",
       "std      127.744079   113.553237    3.729318    3.058115               NaN  \n",
       "min      820.000000  1060.000000   15.000000   20.000000               NaN  \n",
       "25%     1020.000000  1230.000000   21.000000   26.000000               NaN  \n",
       "50%     1080.000000  1290.000000   22.000000   28.000000               NaN  \n",
       "75%     1180.000000  1380.000000   25.000000   31.000000               NaN  \n",
       "max     1530.000000  1590.000000   34.000000   35.000000               NaN  "
      ]
     },
     "execution_count": 5,
     "metadata": {},
     "output_type": "execute_result"
    }
   ],
   "source": [
    "college_raw.describe(include = 'all')"
   ]
  },
  {
   "cell_type": "code",
   "execution_count": 6,
   "id": "alternate-extra",
   "metadata": {
    "execution": {
     "iopub.execute_input": "2021-04-04T22:09:35.138488Z",
     "iopub.status.busy": "2021-04-04T22:09:35.137822Z",
     "iopub.status.idle": "2021-04-04T22:09:35.152308Z",
     "shell.execute_reply": "2021-04-04T22:09:35.152892Z"
    },
    "papermill": {
     "duration": 0.043855,
     "end_time": "2021-04-04T22:09:35.153076",
     "exception": false,
     "start_time": "2021-04-04T22:09:35.109221",
     "status": "completed"
    },
    "tags": []
   },
   "outputs": [
    {
     "data": {
      "text/plain": [
       "Rank                        650\n",
       "Name                        650\n",
       "City                        469\n",
       "State                        51\n",
       "Public/Private                2\n",
       "Undergraduate Population    623\n",
       "Student Population          639\n",
       "Net Price                   638\n",
       "Average Grant Aid           639\n",
       "Total Annual Cost           644\n",
       "Alumni Salary               354\n",
       "Acceptance Rate              93\n",
       "SAT Lower                    97\n",
       "SAT Upper                    90\n",
       "ACT Lower                    20\n",
       "ACT Upper                    16\n",
       "Website                     645\n",
       "dtype: int64"
      ]
     },
     "execution_count": 6,
     "metadata": {},
     "output_type": "execute_result"
    }
   ],
   "source": [
    "college_raw.nunique()"
   ]
  },
  {
   "cell_type": "markdown",
   "id": "cognitive-cuisine",
   "metadata": {
    "papermill": {
     "duration": 0.024704,
     "end_time": "2021-04-04T22:09:35.203085",
     "exception": false,
     "start_time": "2021-04-04T22:09:35.178381",
     "status": "completed"
    },
    "tags": []
   },
   "source": [
    "## **2. Cleaning the data**"
   ]
  },
  {
   "cell_type": "markdown",
   "id": "micro-anderson",
   "metadata": {
    "papermill": {
     "duration": 0.024697,
     "end_time": "2021-04-04T22:09:35.252891",
     "exception": false,
     "start_time": "2021-04-04T22:09:35.228194",
     "status": "completed"
    },
    "tags": []
   },
   "source": [
    "Removing columns we will not focus on and finding null values"
   ]
  },
  {
   "cell_type": "code",
   "execution_count": 7,
   "id": "ambient-option",
   "metadata": {
    "execution": {
     "iopub.execute_input": "2021-04-04T22:09:35.311356Z",
     "iopub.status.busy": "2021-04-04T22:09:35.310537Z",
     "iopub.status.idle": "2021-04-04T22:09:35.314354Z",
     "shell.execute_reply": "2021-04-04T22:09:35.313745Z"
    },
    "papermill": {
     "duration": 0.03661,
     "end_time": "2021-04-04T22:09:35.314494",
     "exception": false,
     "start_time": "2021-04-04T22:09:35.277884",
     "status": "completed"
    },
    "tags": []
   },
   "outputs": [
    {
     "data": {
      "text/plain": [
       "Rank                         0\n",
       "Name                         0\n",
       "City                         3\n",
       "State                        0\n",
       "Public/Private               0\n",
       "Undergraduate Population     0\n",
       "Student Population           0\n",
       "Net Price                    2\n",
       "Average Grant Aid            4\n",
       "Total Annual Cost            0\n",
       "Alumni Salary               15\n",
       "Acceptance Rate              2\n",
       "SAT Lower                   99\n",
       "SAT Upper                   99\n",
       "ACT Lower                   97\n",
       "ACT Upper                   97\n",
       "Website                      5\n",
       "dtype: int64"
      ]
     },
     "execution_count": 7,
     "metadata": {},
     "output_type": "execute_result"
    }
   ],
   "source": [
    "college_raw.isnull().sum()"
   ]
  },
  {
   "cell_type": "markdown",
   "id": "infinite-policy",
   "metadata": {
    "papermill": {
     "duration": 0.025631,
     "end_time": "2021-04-04T22:09:35.366033",
     "exception": false,
     "start_time": "2021-04-04T22:09:35.340402",
     "status": "completed"
    },
    "tags": []
   },
   "source": [
    "Columns that are not relevant to this analysis: City, State, SAT & ACT scores. However, I will drop undergraduate population and focus on total population instead."
   ]
  },
  {
   "cell_type": "code",
   "execution_count": 8,
   "id": "noticed-equivalent",
   "metadata": {
    "execution": {
     "iopub.execute_input": "2021-04-04T22:09:35.421077Z",
     "iopub.status.busy": "2021-04-04T22:09:35.420445Z",
     "iopub.status.idle": "2021-04-04T22:09:35.426910Z",
     "shell.execute_reply": "2021-04-04T22:09:35.426339Z"
    },
    "papermill": {
     "duration": 0.035192,
     "end_time": "2021-04-04T22:09:35.427069",
     "exception": false,
     "start_time": "2021-04-04T22:09:35.391877",
     "status": "completed"
    },
    "tags": []
   },
   "outputs": [],
   "source": [
    "college_raw2 = college_raw.drop(['City', 'State', 'SAT Lower', 'SAT Upper', 'ACT Lower', 'ACT Upper', 'Website', 'Undergraduate Population'], axis = 1)"
   ]
  },
  {
   "cell_type": "code",
   "execution_count": 9,
   "id": "virgin-sense",
   "metadata": {
    "execution": {
     "iopub.execute_input": "2021-04-04T22:09:35.487163Z",
     "iopub.status.busy": "2021-04-04T22:09:35.485158Z",
     "iopub.status.idle": "2021-04-04T22:09:35.522961Z",
     "shell.execute_reply": "2021-04-04T22:09:35.522289Z"
    },
    "papermill": {
     "duration": 0.069271,
     "end_time": "2021-04-04T22:09:35.523102",
     "exception": false,
     "start_time": "2021-04-04T22:09:35.453831",
     "status": "completed"
    },
    "tags": []
   },
   "outputs": [
    {
     "data": {
      "text/html": [
       "<div>\n",
       "<style scoped>\n",
       "    .dataframe tbody tr th:only-of-type {\n",
       "        vertical-align: middle;\n",
       "    }\n",
       "\n",
       "    .dataframe tbody tr th {\n",
       "        vertical-align: top;\n",
       "    }\n",
       "\n",
       "    .dataframe thead th {\n",
       "        text-align: right;\n",
       "    }\n",
       "</style>\n",
       "<table border=\"1\" class=\"dataframe\">\n",
       "  <thead>\n",
       "    <tr style=\"text-align: right;\">\n",
       "      <th></th>\n",
       "      <th>Rank</th>\n",
       "      <th>Name</th>\n",
       "      <th>Public/Private</th>\n",
       "      <th>Student Population</th>\n",
       "      <th>Net Price</th>\n",
       "      <th>Average Grant Aid</th>\n",
       "      <th>Total Annual Cost</th>\n",
       "      <th>Alumni Salary</th>\n",
       "      <th>Acceptance Rate</th>\n",
       "    </tr>\n",
       "  </thead>\n",
       "  <tbody>\n",
       "    <tr>\n",
       "      <th>count</th>\n",
       "      <td>650.00000</td>\n",
       "      <td>650</td>\n",
       "      <td>650</td>\n",
       "      <td>650.000000</td>\n",
       "      <td>648.000000</td>\n",
       "      <td>646.000000</td>\n",
       "      <td>650.000000</td>\n",
       "      <td>635.000000</td>\n",
       "      <td>648.000000</td>\n",
       "    </tr>\n",
       "    <tr>\n",
       "      <th>unique</th>\n",
       "      <td>NaN</td>\n",
       "      <td>650</td>\n",
       "      <td>2</td>\n",
       "      <td>NaN</td>\n",
       "      <td>NaN</td>\n",
       "      <td>NaN</td>\n",
       "      <td>NaN</td>\n",
       "      <td>NaN</td>\n",
       "      <td>NaN</td>\n",
       "    </tr>\n",
       "    <tr>\n",
       "      <th>top</th>\n",
       "      <td>NaN</td>\n",
       "      <td>Cooper Union</td>\n",
       "      <td>Private</td>\n",
       "      <td>NaN</td>\n",
       "      <td>NaN</td>\n",
       "      <td>NaN</td>\n",
       "      <td>NaN</td>\n",
       "      <td>NaN</td>\n",
       "      <td>NaN</td>\n",
       "    </tr>\n",
       "    <tr>\n",
       "      <th>freq</th>\n",
       "      <td>NaN</td>\n",
       "      <td>1</td>\n",
       "      <td>400</td>\n",
       "      <td>NaN</td>\n",
       "      <td>NaN</td>\n",
       "      <td>NaN</td>\n",
       "      <td>NaN</td>\n",
       "      <td>NaN</td>\n",
       "      <td>NaN</td>\n",
       "    </tr>\n",
       "    <tr>\n",
       "      <th>mean</th>\n",
       "      <td>325.50000</td>\n",
       "      <td>NaN</td>\n",
       "      <td>NaN</td>\n",
       "      <td>12022.290769</td>\n",
       "      <td>22336.947531</td>\n",
       "      <td>20031.208978</td>\n",
       "      <td>50330.175385</td>\n",
       "      <td>98851.968504</td>\n",
       "      <td>61.597222</td>\n",
       "    </tr>\n",
       "    <tr>\n",
       "      <th>std</th>\n",
       "      <td>187.78312</td>\n",
       "      <td>NaN</td>\n",
       "      <td>NaN</td>\n",
       "      <td>13175.091581</td>\n",
       "      <td>8269.912032</td>\n",
       "      <td>11175.869976</td>\n",
       "      <td>13223.055038</td>\n",
       "      <td>14335.249458</td>\n",
       "      <td>22.024781</td>\n",
       "    </tr>\n",
       "    <tr>\n",
       "      <th>min</th>\n",
       "      <td>1.00000</td>\n",
       "      <td>NaN</td>\n",
       "      <td>NaN</td>\n",
       "      <td>386.000000</td>\n",
       "      <td>0.000000</td>\n",
       "      <td>2975.000000</td>\n",
       "      <td>0.000000</td>\n",
       "      <td>70700.000000</td>\n",
       "      <td>5.000000</td>\n",
       "    </tr>\n",
       "    <tr>\n",
       "      <th>25%</th>\n",
       "      <td>163.25000</td>\n",
       "      <td>NaN</td>\n",
       "      <td>NaN</td>\n",
       "      <td>2240.750000</td>\n",
       "      <td>16410.000000</td>\n",
       "      <td>9288.250000</td>\n",
       "      <td>39917.000000</td>\n",
       "      <td>88600.000000</td>\n",
       "      <td>48.000000</td>\n",
       "    </tr>\n",
       "    <tr>\n",
       "      <th>50%</th>\n",
       "      <td>325.50000</td>\n",
       "      <td>NaN</td>\n",
       "      <td>NaN</td>\n",
       "      <td>6269.000000</td>\n",
       "      <td>21989.000000</td>\n",
       "      <td>19605.000000</td>\n",
       "      <td>50265.000000</td>\n",
       "      <td>96400.000000</td>\n",
       "      <td>67.000000</td>\n",
       "    </tr>\n",
       "    <tr>\n",
       "      <th>75%</th>\n",
       "      <td>487.75000</td>\n",
       "      <td>NaN</td>\n",
       "      <td>NaN</td>\n",
       "      <td>17788.000000</td>\n",
       "      <td>27580.500000</td>\n",
       "      <td>27474.500000</td>\n",
       "      <td>60771.750000</td>\n",
       "      <td>105600.000000</td>\n",
       "      <td>78.000000</td>\n",
       "    </tr>\n",
       "    <tr>\n",
       "      <th>max</th>\n",
       "      <td>650.00000</td>\n",
       "      <td>NaN</td>\n",
       "      <td>NaN</td>\n",
       "      <td>75044.000000</td>\n",
       "      <td>47270.000000</td>\n",
       "      <td>50897.000000</td>\n",
       "      <td>75735.000000</td>\n",
       "      <td>158200.000000</td>\n",
       "      <td>100.000000</td>\n",
       "    </tr>\n",
       "  </tbody>\n",
       "</table>\n",
       "</div>"
      ],
      "text/plain": [
       "             Rank          Name Public/Private  Student Population  \\\n",
       "count   650.00000           650            650          650.000000   \n",
       "unique        NaN           650              2                 NaN   \n",
       "top           NaN  Cooper Union        Private                 NaN   \n",
       "freq          NaN             1            400                 NaN   \n",
       "mean    325.50000           NaN            NaN        12022.290769   \n",
       "std     187.78312           NaN            NaN        13175.091581   \n",
       "min       1.00000           NaN            NaN          386.000000   \n",
       "25%     163.25000           NaN            NaN         2240.750000   \n",
       "50%     325.50000           NaN            NaN         6269.000000   \n",
       "75%     487.75000           NaN            NaN        17788.000000   \n",
       "max     650.00000           NaN            NaN        75044.000000   \n",
       "\n",
       "           Net Price  Average Grant Aid  Total Annual Cost  Alumni Salary  \\\n",
       "count     648.000000         646.000000         650.000000     635.000000   \n",
       "unique           NaN                NaN                NaN            NaN   \n",
       "top              NaN                NaN                NaN            NaN   \n",
       "freq             NaN                NaN                NaN            NaN   \n",
       "mean    22336.947531       20031.208978       50330.175385   98851.968504   \n",
       "std      8269.912032       11175.869976       13223.055038   14335.249458   \n",
       "min         0.000000        2975.000000           0.000000   70700.000000   \n",
       "25%     16410.000000        9288.250000       39917.000000   88600.000000   \n",
       "50%     21989.000000       19605.000000       50265.000000   96400.000000   \n",
       "75%     27580.500000       27474.500000       60771.750000  105600.000000   \n",
       "max     47270.000000       50897.000000       75735.000000  158200.000000   \n",
       "\n",
       "        Acceptance Rate  \n",
       "count        648.000000  \n",
       "unique              NaN  \n",
       "top                 NaN  \n",
       "freq                NaN  \n",
       "mean          61.597222  \n",
       "std           22.024781  \n",
       "min            5.000000  \n",
       "25%           48.000000  \n",
       "50%           67.000000  \n",
       "75%           78.000000  \n",
       "max          100.000000  "
      ]
     },
     "execution_count": 9,
     "metadata": {},
     "output_type": "execute_result"
    }
   ],
   "source": [
    "college_raw2.describe(include = 'all')"
   ]
  },
  {
   "cell_type": "code",
   "execution_count": 10,
   "id": "perfect-triumph",
   "metadata": {
    "execution": {
     "iopub.execute_input": "2021-04-04T22:09:35.579755Z",
     "iopub.status.busy": "2021-04-04T22:09:35.579123Z",
     "iopub.status.idle": "2021-04-04T22:09:35.586498Z",
     "shell.execute_reply": "2021-04-04T22:09:35.587005Z"
    },
    "papermill": {
     "duration": 0.037338,
     "end_time": "2021-04-04T22:09:35.587168",
     "exception": false,
     "start_time": "2021-04-04T22:09:35.549830",
     "status": "completed"
    },
    "tags": []
   },
   "outputs": [
    {
     "data": {
      "text/plain": [
       "Rank                   0\n",
       "Name                   0\n",
       "Public/Private         0\n",
       "Student Population     0\n",
       "Net Price              2\n",
       "Average Grant Aid      4\n",
       "Total Annual Cost      0\n",
       "Alumni Salary         15\n",
       "Acceptance Rate        2\n",
       "dtype: int64"
      ]
     },
     "execution_count": 10,
     "metadata": {},
     "output_type": "execute_result"
    }
   ],
   "source": [
    "college_raw2.isnull().sum()"
   ]
  },
  {
   "cell_type": "markdown",
   "id": "printable-trainer",
   "metadata": {
    "papermill": {
     "duration": 0.026316,
     "end_time": "2021-04-04T22:09:35.640458",
     "exception": false,
     "start_time": "2021-04-04T22:09:35.614142",
     "status": "completed"
    },
    "tags": []
   },
   "source": [
    "Now we drop the rows will null values to make the count uniform across all columns"
   ]
  },
  {
   "cell_type": "code",
   "execution_count": 11,
   "id": "formed-samoa",
   "metadata": {
    "execution": {
     "iopub.execute_input": "2021-04-04T22:09:35.698132Z",
     "iopub.status.busy": "2021-04-04T22:09:35.697392Z",
     "iopub.status.idle": "2021-04-04T22:09:35.704704Z",
     "shell.execute_reply": "2021-04-04T22:09:35.704150Z"
    },
    "papermill": {
     "duration": 0.037426,
     "end_time": "2021-04-04T22:09:35.704861",
     "exception": false,
     "start_time": "2021-04-04T22:09:35.667435",
     "status": "completed"
    },
    "tags": []
   },
   "outputs": [],
   "source": [
    "college = college_raw2.dropna(axis = 0)"
   ]
  },
  {
   "cell_type": "code",
   "execution_count": 12,
   "id": "adjusted-philosophy",
   "metadata": {
    "execution": {
     "iopub.execute_input": "2021-04-04T22:09:35.769102Z",
     "iopub.status.busy": "2021-04-04T22:09:35.768436Z",
     "iopub.status.idle": "2021-04-04T22:09:35.801613Z",
     "shell.execute_reply": "2021-04-04T22:09:35.801084Z"
    },
    "papermill": {
     "duration": 0.069421,
     "end_time": "2021-04-04T22:09:35.801748",
     "exception": false,
     "start_time": "2021-04-04T22:09:35.732327",
     "status": "completed"
    },
    "tags": []
   },
   "outputs": [
    {
     "data": {
      "text/html": [
       "<div>\n",
       "<style scoped>\n",
       "    .dataframe tbody tr th:only-of-type {\n",
       "        vertical-align: middle;\n",
       "    }\n",
       "\n",
       "    .dataframe tbody tr th {\n",
       "        vertical-align: top;\n",
       "    }\n",
       "\n",
       "    .dataframe thead th {\n",
       "        text-align: right;\n",
       "    }\n",
       "</style>\n",
       "<table border=\"1\" class=\"dataframe\">\n",
       "  <thead>\n",
       "    <tr style=\"text-align: right;\">\n",
       "      <th></th>\n",
       "      <th>Rank</th>\n",
       "      <th>Name</th>\n",
       "      <th>Public/Private</th>\n",
       "      <th>Student Population</th>\n",
       "      <th>Net Price</th>\n",
       "      <th>Average Grant Aid</th>\n",
       "      <th>Total Annual Cost</th>\n",
       "      <th>Alumni Salary</th>\n",
       "      <th>Acceptance Rate</th>\n",
       "    </tr>\n",
       "  </thead>\n",
       "  <tbody>\n",
       "    <tr>\n",
       "      <th>count</th>\n",
       "      <td>628.000000</td>\n",
       "      <td>628</td>\n",
       "      <td>628</td>\n",
       "      <td>628.000000</td>\n",
       "      <td>628.000000</td>\n",
       "      <td>628.000000</td>\n",
       "      <td>628.000000</td>\n",
       "      <td>628.000000</td>\n",
       "      <td>628.000000</td>\n",
       "    </tr>\n",
       "    <tr>\n",
       "      <th>unique</th>\n",
       "      <td>NaN</td>\n",
       "      <td>628</td>\n",
       "      <td>2</td>\n",
       "      <td>NaN</td>\n",
       "      <td>NaN</td>\n",
       "      <td>NaN</td>\n",
       "      <td>NaN</td>\n",
       "      <td>NaN</td>\n",
       "      <td>NaN</td>\n",
       "    </tr>\n",
       "    <tr>\n",
       "      <th>top</th>\n",
       "      <td>NaN</td>\n",
       "      <td>Cooper Union</td>\n",
       "      <td>Private</td>\n",
       "      <td>NaN</td>\n",
       "      <td>NaN</td>\n",
       "      <td>NaN</td>\n",
       "      <td>NaN</td>\n",
       "      <td>NaN</td>\n",
       "      <td>NaN</td>\n",
       "    </tr>\n",
       "    <tr>\n",
       "      <th>freq</th>\n",
       "      <td>NaN</td>\n",
       "      <td>1</td>\n",
       "      <td>384</td>\n",
       "      <td>NaN</td>\n",
       "      <td>NaN</td>\n",
       "      <td>NaN</td>\n",
       "      <td>NaN</td>\n",
       "      <td>NaN</td>\n",
       "      <td>NaN</td>\n",
       "    </tr>\n",
       "    <tr>\n",
       "      <th>mean</th>\n",
       "      <td>322.122611</td>\n",
       "      <td>NaN</td>\n",
       "      <td>NaN</td>\n",
       "      <td>12312.912420</td>\n",
       "      <td>22481.570064</td>\n",
       "      <td>19971.522293</td>\n",
       "      <td>50722.579618</td>\n",
       "      <td>98616.242038</td>\n",
       "      <td>61.721338</td>\n",
       "    </tr>\n",
       "    <tr>\n",
       "      <th>std</th>\n",
       "      <td>185.360460</td>\n",
       "      <td>NaN</td>\n",
       "      <td>NaN</td>\n",
       "      <td>13246.660229</td>\n",
       "      <td>8099.771637</td>\n",
       "      <td>11214.740998</td>\n",
       "      <td>12670.126944</td>\n",
       "      <td>14026.078146</td>\n",
       "      <td>21.795857</td>\n",
       "    </tr>\n",
       "    <tr>\n",
       "      <th>min</th>\n",
       "      <td>1.000000</td>\n",
       "      <td>NaN</td>\n",
       "      <td>NaN</td>\n",
       "      <td>406.000000</td>\n",
       "      <td>1298.000000</td>\n",
       "      <td>2975.000000</td>\n",
       "      <td>8646.000000</td>\n",
       "      <td>70700.000000</td>\n",
       "      <td>5.000000</td>\n",
       "    </tr>\n",
       "    <tr>\n",
       "      <th>25%</th>\n",
       "      <td>161.750000</td>\n",
       "      <td>NaN</td>\n",
       "      <td>NaN</td>\n",
       "      <td>2294.500000</td>\n",
       "      <td>16476.000000</td>\n",
       "      <td>9253.000000</td>\n",
       "      <td>40076.000000</td>\n",
       "      <td>88600.000000</td>\n",
       "      <td>49.000000</td>\n",
       "    </tr>\n",
       "    <tr>\n",
       "      <th>50%</th>\n",
       "      <td>321.500000</td>\n",
       "      <td>NaN</td>\n",
       "      <td>NaN</td>\n",
       "      <td>6538.500000</td>\n",
       "      <td>22065.000000</td>\n",
       "      <td>19605.000000</td>\n",
       "      <td>50478.000000</td>\n",
       "      <td>96300.000000</td>\n",
       "      <td>67.000000</td>\n",
       "    </tr>\n",
       "    <tr>\n",
       "      <th>75%</th>\n",
       "      <td>479.250000</td>\n",
       "      <td>NaN</td>\n",
       "      <td>NaN</td>\n",
       "      <td>18357.250000</td>\n",
       "      <td>27880.750000</td>\n",
       "      <td>27431.000000</td>\n",
       "      <td>60965.000000</td>\n",
       "      <td>105400.000000</td>\n",
       "      <td>78.000000</td>\n",
       "    </tr>\n",
       "    <tr>\n",
       "      <th>max</th>\n",
       "      <td>650.000000</td>\n",
       "      <td>NaN</td>\n",
       "      <td>NaN</td>\n",
       "      <td>75044.000000</td>\n",
       "      <td>47270.000000</td>\n",
       "      <td>50897.000000</td>\n",
       "      <td>75735.000000</td>\n",
       "      <td>158200.000000</td>\n",
       "      <td>100.000000</td>\n",
       "    </tr>\n",
       "  </tbody>\n",
       "</table>\n",
       "</div>"
      ],
      "text/plain": [
       "              Rank          Name Public/Private  Student Population  \\\n",
       "count   628.000000           628            628          628.000000   \n",
       "unique         NaN           628              2                 NaN   \n",
       "top            NaN  Cooper Union        Private                 NaN   \n",
       "freq           NaN             1            384                 NaN   \n",
       "mean    322.122611           NaN            NaN        12312.912420   \n",
       "std     185.360460           NaN            NaN        13246.660229   \n",
       "min       1.000000           NaN            NaN          406.000000   \n",
       "25%     161.750000           NaN            NaN         2294.500000   \n",
       "50%     321.500000           NaN            NaN         6538.500000   \n",
       "75%     479.250000           NaN            NaN        18357.250000   \n",
       "max     650.000000           NaN            NaN        75044.000000   \n",
       "\n",
       "           Net Price  Average Grant Aid  Total Annual Cost  Alumni Salary  \\\n",
       "count     628.000000         628.000000         628.000000     628.000000   \n",
       "unique           NaN                NaN                NaN            NaN   \n",
       "top              NaN                NaN                NaN            NaN   \n",
       "freq             NaN                NaN                NaN            NaN   \n",
       "mean    22481.570064       19971.522293       50722.579618   98616.242038   \n",
       "std      8099.771637       11214.740998       12670.126944   14026.078146   \n",
       "min      1298.000000        2975.000000        8646.000000   70700.000000   \n",
       "25%     16476.000000        9253.000000       40076.000000   88600.000000   \n",
       "50%     22065.000000       19605.000000       50478.000000   96300.000000   \n",
       "75%     27880.750000       27431.000000       60965.000000  105400.000000   \n",
       "max     47270.000000       50897.000000       75735.000000  158200.000000   \n",
       "\n",
       "        Acceptance Rate  \n",
       "count        628.000000  \n",
       "unique              NaN  \n",
       "top                 NaN  \n",
       "freq                NaN  \n",
       "mean          61.721338  \n",
       "std           21.795857  \n",
       "min            5.000000  \n",
       "25%           49.000000  \n",
       "50%           67.000000  \n",
       "75%           78.000000  \n",
       "max          100.000000  "
      ]
     },
     "execution_count": 12,
     "metadata": {},
     "output_type": "execute_result"
    }
   ],
   "source": [
    "college.describe(include = 'all')"
   ]
  },
  {
   "cell_type": "code",
   "execution_count": 13,
   "id": "educational-arlington",
   "metadata": {
    "execution": {
     "iopub.execute_input": "2021-04-04T22:09:35.863660Z",
     "iopub.status.busy": "2021-04-04T22:09:35.862816Z",
     "iopub.status.idle": "2021-04-04T22:09:35.867048Z",
     "shell.execute_reply": "2021-04-04T22:09:35.866388Z"
    },
    "papermill": {
     "duration": 0.037401,
     "end_time": "2021-04-04T22:09:35.867188",
     "exception": false,
     "start_time": "2021-04-04T22:09:35.829787",
     "status": "completed"
    },
    "tags": []
   },
   "outputs": [
    {
     "data": {
      "text/plain": [
       "(628, 9)"
      ]
     },
     "execution_count": 13,
     "metadata": {},
     "output_type": "execute_result"
    }
   ],
   "source": [
    "college.shape"
   ]
  },
  {
   "cell_type": "markdown",
   "id": "animated-marina",
   "metadata": {
    "papermill": {
     "duration": 0.028367,
     "end_time": "2021-04-04T22:09:35.924209",
     "exception": false,
     "start_time": "2021-04-04T22:09:35.895842",
     "status": "completed"
    },
    "tags": []
   },
   "source": [
    "Now we are left with the columns we will analyze. There are now 628 rows of data and 9 columns."
   ]
  },
  {
   "cell_type": "markdown",
   "id": "matched-genome",
   "metadata": {
    "papermill": {
     "duration": 0.02882,
     "end_time": "2021-04-04T22:09:35.982056",
     "exception": false,
     "start_time": "2021-04-04T22:09:35.953236",
     "status": "completed"
    },
    "tags": []
   },
   "source": [
    "## **3. Analysis**"
   ]
  },
  {
   "cell_type": "markdown",
   "id": "anonymous-hardware",
   "metadata": {
    "papermill": {
     "duration": 0.029039,
     "end_time": "2021-04-04T22:09:36.040251",
     "exception": false,
     "start_time": "2021-04-04T22:09:36.011212",
     "status": "completed"
    },
    "tags": []
   },
   "source": [
    "### **3.1** What can we find between the relationship of the Rank and Student Population within these colleges"
   ]
  },
  {
   "cell_type": "code",
   "execution_count": 14,
   "id": "special-captain",
   "metadata": {
    "execution": {
     "iopub.execute_input": "2021-04-04T22:09:36.105156Z",
     "iopub.status.busy": "2021-04-04T22:09:36.104163Z",
     "iopub.status.idle": "2021-04-04T22:09:36.770197Z",
     "shell.execute_reply": "2021-04-04T22:09:36.769647Z"
    },
    "papermill": {
     "duration": 0.701296,
     "end_time": "2021-04-04T22:09:36.770348",
     "exception": false,
     "start_time": "2021-04-04T22:09:36.069052",
     "status": "completed"
    },
    "tags": []
   },
   "outputs": [
    {
     "data": {
      "text/plain": [
       "<seaborn.axisgrid.FacetGrid at 0x7f02fb7969d0>"
      ]
     },
     "execution_count": 14,
     "metadata": {},
     "output_type": "execute_result"
    },
    {
     "data": {
      "image/png": "[encoded data removed]",
      "text/plain": [
       "<Figure size 436x360 with 1 Axes>"
      ]
     },
     "metadata": {
      "needs_background": "light"
     },
     "output_type": "display_data"
    }
   ],
   "source": [
    "sns.lmplot(x=\"Rank\", y=\"Student Population\", hue=\"Public/Private\",\n",
    "             data=college)"
   ]
  },
  {
   "cell_type": "markdown",
   "id": "fallen-trick",
   "metadata": {
    "papermill": {
     "duration": 0.030475,
     "end_time": "2021-04-04T22:09:36.831979",
     "exception": false,
     "start_time": "2021-04-04T22:09:36.801504",
     "status": "completed"
    },
    "tags": []
   },
   "source": [
    "Some information we can gather from this graph:\n",
    "* The lower the ranking, the lower the Student Population\n",
    "* Higher ranked colleges have higher Student Populations\n",
    "* Overall, Public colleges have higher Student Populations"
   ]
  },
  {
   "cell_type": "markdown",
   "id": "advised-beatles",
   "metadata": {
    "papermill": {
     "duration": 0.030553,
     "end_time": "2021-04-04T22:09:36.893110",
     "exception": false,
     "start_time": "2021-04-04T22:09:36.862557",
     "status": "completed"
    },
    "tags": []
   },
   "source": [
    "### **3.2** How does a college's Rank and Acceptance Rate relate?"
   ]
  },
  {
   "cell_type": "code",
   "execution_count": 15,
   "id": "modern-crazy",
   "metadata": {
    "execution": {
     "iopub.execute_input": "2021-04-04T22:09:36.966922Z",
     "iopub.status.busy": "2021-04-04T22:09:36.965958Z",
     "iopub.status.idle": "2021-04-04T22:09:37.212173Z",
     "shell.execute_reply": "2021-04-04T22:09:37.212710Z"
    },
    "papermill": {
     "duration": 0.289214,
     "end_time": "2021-04-04T22:09:37.212918",
     "exception": false,
     "start_time": "2021-04-04T22:09:36.923704",
     "status": "completed"
    },
    "tags": []
   },
   "outputs": [
    {
     "data": {
      "text/plain": [
       "<AxesSubplot:xlabel='Rank', ylabel='Acceptance Rate'>"
      ]
     },
     "execution_count": 15,
     "metadata": {},
     "output_type": "execute_result"
    },
    {
     "data": {
      "image/png": "[encoded data removed]",
      "text/plain": [
       "<Figure size 432x288 with 1 Axes>"
      ]
     },
     "metadata": {
      "needs_background": "light"
     },
     "output_type": "display_data"
    }
   ],
   "source": [
    "sns.lineplot(x=\"Rank\", y=\"Acceptance Rate\",\n",
    "             hue=\"Public/Private\", \n",
    "             data=college)"
   ]
  },
  {
   "cell_type": "markdown",
   "id": "thrown-saudi",
   "metadata": {
    "papermill": {
     "duration": 0.032745,
     "end_time": "2021-04-04T22:09:37.278756",
     "exception": false,
     "start_time": "2021-04-04T22:09:37.246011",
     "status": "completed"
    },
    "tags": []
   },
   "source": [
    "This shows that colleges that are ranked lower have higher acceptance rates & we can see how that differs between Private vs. Public colleges. "
   ]
  },
  {
   "cell_type": "markdown",
   "id": "oriental-deposit",
   "metadata": {
    "papermill": {
     "duration": 0.032839,
     "end_time": "2021-04-04T22:09:37.344495",
     "exception": false,
     "start_time": "2021-04-04T22:09:37.311656",
     "status": "completed"
    },
    "tags": []
   },
   "source": [
    "### **3.3** What relationship can we find between Rank and Cost?"
   ]
  },
  {
   "cell_type": "code",
   "execution_count": 16,
   "id": "private-mississippi",
   "metadata": {
    "execution": {
     "iopub.execute_input": "2021-04-04T22:09:37.444116Z",
     "iopub.status.busy": "2021-04-04T22:09:37.418158Z",
     "iopub.status.idle": "2021-04-04T22:09:38.058753Z",
     "shell.execute_reply": "2021-04-04T22:09:38.058212Z"
    },
    "papermill": {
     "duration": 0.681098,
     "end_time": "2021-04-04T22:09:38.058922",
     "exception": false,
     "start_time": "2021-04-04T22:09:37.377824",
     "status": "completed"
    },
    "tags": []
   },
   "outputs": [
    {
     "data": {
      "text/plain": [
       "<seaborn.axisgrid.FacetGrid at 0x7f02f15ad410>"
      ]
     },
     "execution_count": 16,
     "metadata": {},
     "output_type": "execute_result"
    },
    {
     "data": {
      "image/png": "[encoded data removed]",
      "text/plain": [
       "<Figure size 436x360 with 1 Axes>"
      ]
     },
     "metadata": {
      "needs_background": "light"
     },
     "output_type": "display_data"
    }
   ],
   "source": [
    "sns.lmplot(y='Total Annual Cost', x='Rank', hue=\"Public/Private\", data=college)"
   ]
  },
  {
   "cell_type": "markdown",
   "id": "amended-baltimore",
   "metadata": {
    "papermill": {
     "duration": 0.035378,
     "end_time": "2021-04-04T22:09:38.129790",
     "exception": false,
     "start_time": "2021-04-04T22:09:38.094412",
     "status": "completed"
    },
    "tags": []
   },
   "source": [
    "Overall, we notice that higher ranked colleges have higher Total Annual Cost, and there is a decrease in cost as our x-value goes further to the right (as the college's rank becomes lower)."
   ]
  },
  {
   "cell_type": "markdown",
   "id": "going-psychology",
   "metadata": {
    "papermill": {
     "duration": 0.035217,
     "end_time": "2021-04-04T22:09:38.200494",
     "exception": false,
     "start_time": "2021-04-04T22:09:38.165277",
     "status": "completed"
    },
    "tags": []
   },
   "source": [
    "### **3.4** How do alumni salaries and college rank relate?"
   ]
  },
  {
   "cell_type": "code",
   "execution_count": 17,
   "id": "animal-indie",
   "metadata": {
    "execution": {
     "iopub.execute_input": "2021-04-04T22:09:38.280214Z",
     "iopub.status.busy": "2021-04-04T22:09:38.279185Z",
     "iopub.status.idle": "2021-04-04T22:09:38.880669Z",
     "shell.execute_reply": "2021-04-04T22:09:38.881192Z"
    },
    "papermill": {
     "duration": 0.645385,
     "end_time": "2021-04-04T22:09:38.881354",
     "exception": false,
     "start_time": "2021-04-04T22:09:38.235969",
     "status": "completed"
    },
    "tags": []
   },
   "outputs": [
    {
     "data": {
      "text/plain": [
       "<seaborn.axisgrid.FacetGrid at 0x7f02f151b910>"
      ]
     },
     "execution_count": 17,
     "metadata": {},
     "output_type": "execute_result"
    },
    {
     "data": {
      "image/png": "[encoded data removed]",
      "text/plain": [
       "<Figure size 436x360 with 1 Axes>"
      ]
     },
     "metadata": {
      "needs_background": "light"
     },
     "output_type": "display_data"
    }
   ],
   "source": [
    "sns.lmplot(y='Alumni Salary', x='Rank', hue=\"Public/Private\", data=college)"
   ]
  },
  {
   "cell_type": "markdown",
   "id": "dangerous-thumbnail",
   "metadata": {
    "papermill": {
     "duration": 0.040765,
     "end_time": "2021-04-04T22:09:38.960841",
     "exception": false,
     "start_time": "2021-04-04T22:09:38.920076",
     "status": "completed"
    },
    "tags": []
   },
   "source": [
    "We make two conclusions based on the above scatterplot;\n",
    "1. Schools with higher rankings tend to produce higher earning alumni\n",
    "2. Private schools have more higher earning alumni than the public schools in the US"
   ]
  },
  {
   "cell_type": "markdown",
   "id": "wound-representative",
   "metadata": {
    "papermill": {
     "duration": 0.043026,
     "end_time": "2021-04-04T22:09:39.048621",
     "exception": false,
     "start_time": "2021-04-04T22:09:39.005595",
     "status": "completed"
    },
    "tags": []
   },
   "source": [
    "### **3.5** How do Average Grant Aid and Rank relate?"
   ]
  },
  {
   "cell_type": "code",
   "execution_count": 18,
   "id": "norman-talent",
   "metadata": {
    "execution": {
     "iopub.execute_input": "2021-04-04T22:09:39.173040Z",
     "iopub.status.busy": "2021-04-04T22:09:39.170735Z",
     "iopub.status.idle": "2021-04-04T22:09:39.743834Z",
     "shell.execute_reply": "2021-04-04T22:09:39.744357Z"
    },
    "papermill": {
     "duration": 0.649697,
     "end_time": "2021-04-04T22:09:39.744526",
     "exception": false,
     "start_time": "2021-04-04T22:09:39.094829",
     "status": "completed"
    },
    "tags": []
   },
   "outputs": [
    {
     "data": {
      "text/plain": [
       "<seaborn.axisgrid.FacetGrid at 0x7f02f14c47d0>"
      ]
     },
     "execution_count": 18,
     "metadata": {},
     "output_type": "execute_result"
    },
    {
     "data": {
      "image/png": "[encoded data removed]",
      "text/plain": [
       "<Figure size 436x360 with 1 Axes>"
      ]
     },
     "metadata": {
      "needs_background": "light"
     },
     "output_type": "display_data"
    }
   ],
   "source": [
    "sns.lmplot(x='Rank', y='Average Grant Aid', hue=\"Public/Private\", data=college)"
   ]
  },
  {
   "cell_type": "markdown",
   "id": "green-carter",
   "metadata": {
    "papermill": {
     "duration": 0.040371,
     "end_time": "2021-04-04T22:09:39.825697",
     "exception": false,
     "start_time": "2021-04-04T22:09:39.785326",
     "status": "completed"
    },
    "tags": []
   },
   "source": [
    "From the scatterplot, we can conclude that colleges with a higher rank are able to provide more Student aids/grants, with private colleges taking the lead."
   ]
  },
  {
   "cell_type": "markdown",
   "id": "cathedral-daisy",
   "metadata": {
    "papermill": {
     "duration": 0.040605,
     "end_time": "2021-04-04T22:09:39.906842",
     "exception": false,
     "start_time": "2021-04-04T22:09:39.866237",
     "status": "completed"
    },
    "tags": []
   },
   "source": [
    "### **4. Conclusion**"
   ]
  },
  {
   "cell_type": "markdown",
   "id": "imported-arrow",
   "metadata": {
    "papermill": {
     "duration": 0.039942,
     "end_time": "2021-04-04T22:09:39.988621",
     "exception": false,
     "start_time": "2021-04-04T22:09:39.948679",
     "status": "completed"
    },
    "tags": []
   },
   "source": [
    "We've analyzed the relationship between different attributes in this dataset. \n",
    "We can come to a conclusion on how the rank of a college affects its student population, acceptance rate, alumni earning potential, cost and student aid. "
   ]
  }
 ],
 "metadata": {
  "kernelspec": {
   "display_name": "Python 3",
   "language": "python",
   "name": "python3"
  },
  "language_info": {
   "codemirror_mode": {
    "name": "ipython",
    "version": 3
   },
   "file_extension": ".py",
   "mimetype": "text/x-python",
   "name": "python",
   "nbconvert_exporter": "python",
   "pygments_lexer": "ipython3",
   "version": "3.7.9"
  },
  "papermill": {
   "default_parameters": {},
   "duration": 12.691211,
   "end_time": "2021-04-04T22:09:40.639566",
   "environment_variables": {},
   "exception": null,
   "input_path": "__notebook__.ipynb",
   "output_path": "__notebook__.ipynb",
   "parameters": {},
   "start_time": "2021-04-04T22:09:27.948355",
   "version": "2.3.2"
  }
 },
 "nbformat": 4,
 "nbformat_minor": 5
}
